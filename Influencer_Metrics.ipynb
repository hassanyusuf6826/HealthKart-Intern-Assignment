{
 "cells": [
  {
   "cell_type": "markdown",
   "id": "da7d91cd-b13a-4ab3-9b53-6d17fc4044e1",
   "metadata": {},
   "source": [
    "# Feature Engineering and Metrics"
   ]
  },
  {
   "cell_type": "code",
   "execution_count": 4,
   "id": "ff0f2f83-bae9-48e3-9e68-77ad4802cc85",
   "metadata": {},
   "outputs": [
    {
     "name": "stdout",
     "output_type": "stream",
     "text": [
      "influencer_metrics.csv has been saved.\n"
     ]
    }
   ],
   "source": [
    "import pandas as pd\n",
    "import numpy as np\n",
    "\n",
    "# Load datasets\n",
    "influencers = pd.read_csv(\"influencers.csv\")\n",
    "posts = pd.read_csv(\"posts.csv\")\n",
    "tracking_data = pd.read_csv(\"tracking_data.csv\")\n",
    "payouts = pd.read_csv(\"payouts.csv\")\n",
    "\n",
    "# --- Compute Engagement Rate ---\n",
    "posts['engagement_rate'] = (posts['likes'] + posts['comments']) / posts['reach']\n",
    "engagement_df = posts.groupby('influencer_id')['engagement_rate'].mean().reset_index()\n",
    "\n",
    "# --- Compute Total Revenue per Influencer ---\n",
    "revenue_df = tracking_data.groupby('influencer_id')['revenue'].sum().reset_index()\n",
    "revenue_df.rename(columns={'revenue': 'total_revenue'}, inplace=True)\n",
    "\n",
    "# --- Merge with Payouts to calculate ROAS ---\n",
    "merged = payouts.merge(revenue_df, on='influencer_id', how='left')\n",
    "merged = merged.merge(engagement_df, on='influencer_id', how='left')\n",
    "merged = merged.merge(influencers, left_on='influencer_id', right_on='ID', how='left')\n",
    "\n",
    "# Fill NaN revenue or engagement with 0\n",
    "merged['total_revenue'].fillna(0, inplace=True)\n",
    "merged['engagement_rate'].fillna(0, inplace=True)\n",
    "\n",
    "# --- Calculate Metrics ---\n",
    "merged['ROAS'] = merged['total_revenue'] / merged['total_payout']\n",
    "merged['revenue_per_order'] = merged['total_revenue'] / (merged['orders'] + 1e-6)\n",
    "merged['payout_efficiency'] = merged['total_revenue'] / (merged['total_payout'] + 1e-6)\n",
    "\n",
    "# Clean output\n",
    "metrics_df = merged[[\n",
    "    'influencer_id', 'name', 'platform', 'category', 'gender', 'follower_count', 'tier',\n",
    "    'basis', 'rate', 'orders', 'total_payout', 'total_revenue', 'ROAS',\n",
    "    'engagement_rate', 'payout_efficiency'\n",
    "]].sort_values(by='ROAS', ascending=False)\n",
    "\n",
    "# Save result\n",
    "metrics_df.to_csv(\"influencer_metrics.csv\", index=False)\n",
    "print(\"influencer_metrics.csv has been saved.\")"
   ]
  },
  {
   "cell_type": "code",
   "execution_count": null,
   "id": "06747621-3e89-43d4-8a57-57d81eab8884",
   "metadata": {},
   "outputs": [],
   "source": []
  }
 ],
 "metadata": {
  "kernelspec": {
   "display_name": "python (tf_env)",
   "language": "python",
   "name": "tf_env"
  },
  "language_info": {
   "codemirror_mode": {
    "name": "ipython",
    "version": 3
   },
   "file_extension": ".py",
   "mimetype": "text/x-python",
   "name": "python",
   "nbconvert_exporter": "python",
   "pygments_lexer": "ipython3",
   "version": "3.8.19"
  }
 },
 "nbformat": 4,
 "nbformat_minor": 5
}
